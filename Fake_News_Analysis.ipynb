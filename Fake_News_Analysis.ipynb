{
 "cells": [
  {
   "cell_type": "code",
   "execution_count": 2,
   "metadata": {
    "collapsed": false
   },
   "outputs": [
    {
     "name": "stderr",
     "output_type": "stream",
     "text": [
      "/Users/family/anaconda/lib/python3.5/site-packages/gensim/utils.py:1015: UserWarning: Pattern library is not installed, lemmatization won't be available.\n",
      "  warnings.warn(\"Pattern library is not installed, lemmatization won't be available.\")\n"
     ]
    }
   ],
   "source": [
    "import itertools\n",
    "from collections import Counter\n",
    "from pprint import pprint\n",
    "from copy import copy\n",
    "from string import punctuation\n",
    "\n",
    "%matplotlib inline\n",
    "import pandas as pd\n",
    "import numpy as np\n",
    "import matplotlib.pyplot as plt\n",
    "import gensim\n",
    "from sklearn.model_selection import train_test_split\n",
    "from sklearn.metrics import accuracy_score, precision_recall_fscore_support, confusion_matrix, mean_squared_error\n",
    "from sklearn.feature_extraction.text import TfidfVectorizer, CountVectorizer\n",
    "from sklearn.linear_model import LogisticRegression\n",
    "from sklearn.decomposition import NMF, LatentDirichletAllocation, TruncatedSVD\n",
    "from sklearn.svm import SVC\n",
    "from sklearn.naive_bayes import MultinomialNB, GaussianNB\n",
    "from sklearn.tree import DecisionTreeClassifier\n",
    "from sklearn.ensemble import RandomForestClassifier, AdaBoostClassifier, GradientBoostingClassifier\n",
    "from sklearn.pipeline import Pipeline\n",
    "from nltk.corpus import stopwords\n",
    "from nltk.stem.porter import PorterStemmer\n",
    "\n",
    "from blender import Blender\n",
    "from wordcloud import WordCloud\n",
    "from confusion_matrix import plot_confusion_matrix"
   ]
  },
  {
   "cell_type": "markdown",
   "metadata": {},
   "source": [
    "## Fake News Analysis"
   ]
  },
  {
   "cell_type": "markdown",
   "metadata": {},
   "source": [
    "In recent months, the prevalence of \"fake news\" websites has been a topic of much conversation. Fake news websites publish news that is objectively untrue, usually political in nature, and often inflammatory. Fake news could be seen as a certain type of clickbait - its intent is to drive traffic to the website of origin and profit by selling advertisements. Fake news sites thrive on social media and can sometimes receive millions of shares on places like Facebook.\n",
    "\n",
    "Due to the highly public role of fake news in the 2016 Presidential election, Facebook has come under fire as the platform where much of it has been shared. It would therefore be in their interest to develop a system to efficiently detect and eliminate fake news sites from website. However, this is a difficult problem to solve. First, Facebook has over a billion users and a similar amount of content being shared every day. It is therefore obviously not feasible to use a manual system to remove fake news websites and some algorithmic method would need to be implemented, at the minimum as the first pass of analysis. In addition, this is an extremely politically touchy subject. Should Facebook continue allowing users to share any piece of \"news\" they would like, they will continue to face criticism for allowing blatantly false information to proliferate and influence the social and political climate in our country. However, if they go too far in removing articles, they may face accusations of censorship or bias. Because of this, it's extremely important that any algorithm used on the site be very accurate.\n",
    "\n",
    "For this project, I chose to implement some of the classification methods that we have learned in class to see how they fare in distinguishing fake news from real news. For my fake news corpus, I used a kaggle dataset consisting of 13,000 articles from known fake websites. For the real news corpus, I used a dataset released by the BBC consisting of 4,000 legitimate articles. I used a variety of classification techniques in order to test their efficacy.\n",
    "\n",
    "In addition to using the general classifiers we learned in class, I also implemented a type of ensemble method known as \"stacked generalization\" or \"blending\". In blending, the outputs of several learners (the probabilities, not the final predicted classes) are used as input to a final learner, or \"meta-learner\". The input training space to the base learners is called the Level 0 training space, while the input to the meta-learner is known as the Level 1 training space.\n",
    "\n",
    "Hypothetically, blending may be implemented using any number of levels. However, this is very computationally expensive and does not necessarily yield significantly better results.\n",
    "\n",
    "In order to implement stacked generalization in the model, I created a Blender class that can implement a stacked generalizer using an arbitrary number of learning spaces. The class takes as input a dictionary of learners, where the entry for key n is the list of learners to be trained at level n in the learner."
   ]
  },
  {
   "cell_type": "markdown",
   "metadata": {},
   "source": [
    "## Conclusions"
   ]
  },
  {
   "cell_type": "markdown",
   "metadata": {},
   "source": [
    "I elected to use a multinomial Naive Bayes as the baseline model. Using a TFIDF vectorization to encode the feature space, this model produces the following results:\n",
    "\n",
    "#### Real news:\n",
    "\n",
    "Precision: 96%  \n",
    "Recall: 75%  \n",
    "F-Score: 84%  \n",
    "\n",
    "#### Fake news:  \n",
    "\n",
    "Precision: 95%  \n",
    "Recall: 99%  \n",
    "F-Score: 97%  \n",
    "\n",
    "#### Confusion Matrix"
   ]
  },
  {
   "cell_type": "markdown",
   "metadata": {},
   "source": [
    "<img src=\"./naive_bayes_confusion_matrix.png\" width=400, height=400>"
   ]
  },
  {
   "cell_type": "markdown",
   "metadata": {},
   "source": [
    "Although the overall accuracy was good, this was mainly due to the fact that there were significantly more fake news articles than real news articles, and the model was quite good at identifying a fake news article.\n",
    "\n",
    "However, the recall on real news was 90%, much lower than other values. This means that 10% of the total real news articles were being classified as fake. Although 90% is generally a pretty good score, as described above, a system like this in production would need to have better numbers. If this algorithm was a first pass, with the intent being to have a human review all flagged articles, 10% could ultimately be an infeasibly gigantic number at Facebook scale."
   ]
  },
  {
   "cell_type": "markdown",
   "metadata": {},
   "source": [
    "In addition to TFIDF and count vectorization, I trained a doc2vec model to convert the news articles to vectors. I trained a variety of models using all three vectorization methods.\n",
    "\n",
    "One interesting method used was \"stacked generalization\" or \"blending\", which involves using the predictions of one or several \"low level\" learners as the feature space for a high level \"meta learner\". I wrote a generalized class for blending which can be found in stacked_generalizer.py. This class allows the user to train a blended model with an arbitrary number of levels as well as models per level."
   ]
  },
  {
   "cell_type": "markdown",
   "metadata": {},
   "source": [
    "Ultimately, the two best models were penalized logistic regression trained on the word2vec vectors and the blended model using logistic regression as the base learning and a support vector machine with and rbf kernel and gamma of 5 as the meta-learner. When training directly on the data, I used an SVM with a linear kernel because the data is of scuh high dimensionality that basis expansion does not really make sense. However, in the output probability space of the logistic regression, the dimensionality is reduced to 2, so the rbf kernel far outperformed the linear kernel.\n",
    "\n",
    "The results were as follows:\n",
    "\n",
    "#### Penalized Logistic Regression\n",
    "\n",
    "Real News\n",
    "- Precision: 95%\n",
    "- Recall: 93%\n",
    "- F-score: 94%\n",
    "\n",
    "Fake News:\n",
    "- Precision: 99%\n",
    "- Recall: 99%\n",
    "- F-score: 99%\n",
    "\n",
    "<img src = 'logistic_regression_confusion_matrix.png' width=400, height=400>\n",
    "\n",
    "#### Blended Model\n",
    "\n",
    "Real News:\n",
    "- Precision: 93%\n",
    "- Recall: 94%\n",
    "- F-score: 94%\n",
    "\n",
    "Fake News:\n",
    "- Precision: 99%\n",
    "- Recall: 99%\n",
    "- F-Score: 99%\n",
    "\n",
    "<img src = 'blender_confusion_matrix.png' width=400, height=400>\n",
    "\n",
    "Ultimately I would most likely use the logistic regression model in production because it is simple, fast, and only produced marginally worse results than the blended model.\n",
    "\n",
    "All work is shown below."
   ]
  },
  {
   "cell_type": "markdown",
   "metadata": {},
   "source": [
    "## Pre-Processing"
   ]
  },
  {
   "cell_type": "code",
   "execution_count": 2,
   "metadata": {
    "collapsed": false
   },
   "outputs": [],
   "source": [
    "# convert stopwords and punctuation to sets for faster lookup\n",
    "stopwords_lookup = set(stopwords.words('english'))\n",
    "punctuation_lookup = set(punctuation)\n",
    "stemmer = PorterStemmer()\n",
    "\n",
    "def process_text(string_input, punctuation, stopwords, stem=True):\n",
    "    for character in string_input:\n",
    "        if character in punctuation:\n",
    "            string_input = string_input.replace(character, \"\")\n",
    "\n",
    "    processed_string = string_input.lower().split()\n",
    "\n",
    "    processed_string = ' '.join([stemmer.stem(word) for word in processed_string if word not in stopwords])\n",
    "    \n",
    "    return processed_string\n",
    "\n",
    "stopwords_lookup.add('said')\n",
    "stopwords_lookup.add('mr')"
   ]
  },
  {
   "cell_type": "code",
   "execution_count": 3,
   "metadata": {
    "collapsed": false
   },
   "outputs": [],
   "source": [
    "fake_news = pd.read_csv('fake.csv')\n",
    "\n",
    "fake_news_text = fake_news['text']\n",
    "\n",
    "# drop anything that's not a string\n",
    "fake_news_text = fake_news_text[fake_news_text.apply(type) == str]\n",
    "\n",
    "fake_news_text = fake_news_text.apply(lambda x: process_text(x, punctuation_lookup, stopwords_lookup))\n",
    "\n",
    "fake_news = fake_news_text.values"
   ]
  },
  {
   "cell_type": "code",
   "execution_count": 4,
   "metadata": {
    "collapsed": false
   },
   "outputs": [],
   "source": [
    "import os\n",
    "\n",
    "subjects = ['business', 'entertainment', 'politics', 'sport', 'tech']\n",
    "\n",
    "bbc_text = []\n",
    "\n",
    "for subject in subjects:\n",
    "    files = os.listdir('./bbc/' + subject)\n",
    "    \n",
    "    for file in files:\n",
    "        with open('./bbc/' + subject + '/' + file) as f:\n",
    "            try:\n",
    "                data = f.read()\n",
    "                bbc_text.append(data)\n",
    "            except:\n",
    "                continue\n",
    "                \n",
    "bbc_text = [processed_string for \n",
    "            processed_string in \n",
    "            map(lambda x: process_text(x, punctuation_lookup, stopwords_lookup), bbc_text)]\n",
    "\n",
    "bbc_text = np.array(bbc_text)"
   ]
  },
  {
   "cell_type": "markdown",
   "metadata": {},
   "source": [
    "## Exploratory Data Analysis"
   ]
  },
  {
   "cell_type": "code",
   "execution_count": 7,
   "metadata": {
    "collapsed": true
   },
   "outputs": [],
   "source": [
    "bbc_long_string = ''\n",
    "fake_news_long_string = ''\n",
    "\n",
    "for row in bbc_text:\n",
    "    bbc_long_string+=row\n",
    "\n",
    "for row in fake_news:\n",
    "    fake_news_long_string+=row"
   ]
  },
  {
   "cell_type": "markdown",
   "metadata": {},
   "source": [
    "#### Average Length"
   ]
  },
  {
   "cell_type": "code",
   "execution_count": 8,
   "metadata": {
    "collapsed": false
   },
   "outputs": [
    {
     "name": "stdout",
     "output_type": "stream",
     "text": [
      "'Average length for BBC Article: 1375.2706834532373'\n",
      "'Average length for Fake News Article: 2427.1466069636376'\n"
     ]
    }
   ],
   "source": [
    "pprint(\"Average length for BBC Article: {}\".format(len(bbc_long_string)/len(bbc_text)))\n",
    "pprint(\"Average length for Fake News Article: {}\".format(len(fake_news_long_string)/len(fake_news)))"
   ]
  },
  {
   "cell_type": "markdown",
   "metadata": {},
   "source": [
    "The fake news articles are on average nearly twice as long as the BBC articles, which I found surprising."
   ]
  },
  {
   "cell_type": "markdown",
   "metadata": {},
   "source": [
    "#### Most Commonly Used Words"
   ]
  },
  {
   "cell_type": "code",
   "execution_count": 9,
   "metadata": {
    "collapsed": true
   },
   "outputs": [],
   "source": [
    "word_count_bbc = Counter(bbc_long_string.split())\n",
    "word_count_fake = Counter(fake_news_long_string.split())"
   ]
  },
  {
   "cell_type": "code",
   "execution_count": 10,
   "metadata": {
    "collapsed": false
   },
   "outputs": [
    {
     "name": "stdout",
     "output_type": "stream",
     "text": [
      "year\t2790\n",
      "would\t2576\n",
      "also\t2155\n",
      "peopl\t2039\n",
      "new\t1957\n",
      "us\t1843\n",
      "one\t1804\n",
      "game\t1611\n",
      "say\t1585\n",
      "use\t1560\n"
     ]
    }
   ],
   "source": [
    "for word, count in word_count_bbc.most_common(10):\n",
    "    print(word + \"\\t\" + str(count))"
   ]
  },
  {
   "cell_type": "code",
   "execution_count": 11,
   "metadata": {
    "collapsed": false
   },
   "outputs": [
    {
     "name": "stdout",
     "output_type": "stream",
     "text": [
      "us\t25022\n",
      "trump\t21295\n",
      "clinton\t20794\n",
      "peopl\t19529\n",
      "one\t19371\n",
      "state\t18849\n",
      "would\t17905\n",
      "like\t15377\n",
      "time\t14867\n",
      "hillari\t13980\n"
     ]
    }
   ],
   "source": [
    "for word, count in word_count_fake.most_common(10):\n",
    "    print(word + \"\\t\" + str(count))"
   ]
  },
  {
   "cell_type": "markdown",
   "metadata": {},
   "source": [
    "Unsurprisingly, Trump, Clinton, and US dominate the fake news articles. This is what would be expected given their prominence in the election.\n",
    "\n",
    "Next, I looked at the word count normalized by the number of articles in each category. This number corresponds to how many times the word appears per article"
   ]
  },
  {
   "cell_type": "code",
   "execution_count": 12,
   "metadata": {
    "collapsed": false
   },
   "outputs": [
    {
     "name": "stdout",
     "output_type": "stream",
     "text": [
      "year\t1.25\n",
      "would\t1.16\n",
      "also\t0.97\n",
      "peopl\t0.92\n",
      "new\t0.88\n",
      "us\t0.83\n",
      "one\t0.81\n",
      "game\t0.72\n",
      "say\t0.71\n",
      "use\t0.7\n"
     ]
    }
   ],
   "source": [
    "for word, count in word_count_bbc.most_common(10):\n",
    "    print(word + \"\\t\" + str(round(count/len(bbc_text),2)))"
   ]
  },
  {
   "cell_type": "code",
   "execution_count": 13,
   "metadata": {
    "collapsed": false
   },
   "outputs": [
    {
     "name": "stdout",
     "output_type": "stream",
     "text": [
      "us\t1.93\n",
      "trump\t1.64\n",
      "clinton\t1.61\n",
      "peopl\t1.51\n",
      "one\t1.5\n",
      "state\t1.46\n",
      "would\t1.38\n",
      "like\t1.19\n",
      "time\t1.15\n",
      "hillari\t1.08\n"
     ]
    }
   ],
   "source": [
    "for word, count in word_count_fake.most_common(10):\n",
    "    print(word + \"\\t\" + str(round(count/len(fake_news),2)))"
   ]
  },
  {
   "cell_type": "markdown",
   "metadata": {},
   "source": [
    "This continues to imply that the fake news articles are heavily focused on one topic, while the BBC articles are far broader. This most likely made things much easier for the classifiers, as they were able to pick up on election related topics rather than the \"fakeness\" of the articles. Ideally, I would have been able to get more data on the real news side, in order to emulate a much more realistic task for the classifier."
   ]
  },
  {
   "cell_type": "markdown",
   "metadata": {},
   "source": [
    "## Vectorization"
   ]
  },
  {
   "cell_type": "code",
   "execution_count": 14,
   "metadata": {
    "collapsed": false
   },
   "outputs": [],
   "source": [
    "X = np.concatenate((bbc_text, fake_news), axis=0)\n",
    "y_real = np.zeros(len(bbc_text))\n",
    "y_fake = np.ones(len(fake_news))\n",
    "y = np.concatenate((y_real, y_fake), axis=0)"
   ]
  },
  {
   "cell_type": "code",
   "execution_count": 15,
   "metadata": {
    "collapsed": false
   },
   "outputs": [],
   "source": [
    "# count and tfidf\n",
    "\n",
    "count_vectorizer = CountVectorizer(max_features=1000)\n",
    "tfidf_vectorizer = TfidfVectorizer(max_features=1000)\n",
    "\n",
    "X_count = count_vectorizer.fit_transform(X)\n",
    "X_tfidf = tfidf_vectorizer.fit_transform(X)"
   ]
  },
  {
   "cell_type": "code",
   "execution_count": 3,
   "metadata": {
    "collapsed": false
   },
   "outputs": [],
   "source": [
    "# doc2vec\n",
    "\n",
    "# adapted from tutorial at https://medium.com/@klintcho/doc2vec-tutorial-using-gensim-ab3ac03d3a1\n",
    "\n",
    "'''\n",
    "\n",
    "class LabeledSentenceIterator:\n",
    "    def __init__(self, doc_list, label_list):\n",
    "        self.doc_list = doc_list\n",
    "        \n",
    "        self.label_list = []\n",
    "        \n",
    "        self.label_list = ['Fake' if label == 1 else 'Real' for label in label_list]\n",
    "        \n",
    "    def __iter__(self):\n",
    "        num_fake = 0\n",
    "        num_real = 0\n",
    "        \n",
    "        for doc, label in zip(self.doc_list, self.label_list):\n",
    "            words = doc.split()\n",
    "            \n",
    "            if label == 'Fake':\n",
    "                tag = [label + '_' + str(num_fake)]\n",
    "                num_fake += 1\n",
    "                \n",
    "            elif label == 'Real':\n",
    "                tag = [label + '_' + str(num_real)]\n",
    "                num_real += 1\n",
    "            \n",
    "            yield LabeledSentence(words = words, tags = tag)\n",
    "\n",
    "doc_iter = LabeledSentenceIterator(list(X), y)\n",
    "            \n",
    "dtov_model = gensim.models.Doc2Vec(size=300, window=10, min_count=5, workers=11,alpha=0.025, min_alpha=0.025)\n",
    "\n",
    "dtov_model.build_vocab(doc_iter)\n",
    "\n",
    "for epoch in range(10):\n",
    "    dtov_model.train(doc_iter)\n",
    "    dtov_model.alpha -= 0.002\n",
    "    dtov_model.min_alpha = dtov_model.alpha \n",
    "    dtov_model.train(doc_iter)\n",
    "    \n",
    "'''\n",
    "\n",
    "# load the model, previously trained\n",
    "\n",
    "dtov_model = gensim.models.Doc2Vec.load('doc_to_vec.model')"
   ]
  },
  {
   "cell_type": "code",
   "execution_count": 17,
   "metadata": {
    "collapsed": true
   },
   "outputs": [],
   "source": [
    "dtov_model.save('doc_to_vec.model')"
   ]
  },
  {
   "cell_type": "code",
   "execution_count": 18,
   "metadata": {
    "collapsed": false
   },
   "outputs": [],
   "source": [
    "X_doc2vec = []\n",
    "y_doc2vec = []\n",
    "\n",
    "for i in range(len(bbc_text)):\n",
    "    X_doc2vec.append(dtov_model.docvecs['Real_' + str(i)])\n",
    "    y_doc2vec.append(0)\n",
    "\n",
    "for i in range(len(fake_news)):\n",
    "    X_doc2vec.append(dtov_model.docvecs['Fake_' + str(i)])\n",
    "    y_doc2vec.append(1)\n",
    "    \n",
    "X_doc2vec = np.array(X_doc2vec)\n",
    "y_doc2vec = np.array(y_doc2vec)"
   ]
  },
  {
   "cell_type": "code",
   "execution_count": 19,
   "metadata": {
    "collapsed": false
   },
   "outputs": [],
   "source": [
    "X_tr_d2v, X_te_d2v, y_tr_d2v, y_te_d2v = train_test_split(X_doc2vec, y_doc2vec)\n",
    "X_tr_count, X_te_count, y_tr, y_te = train_test_split(X_count, y)\n",
    "X_tr_tfidf, X_te_tfidf, y_tr, y_te = train_test_split(X_tfidf, y)"
   ]
  },
  {
   "cell_type": "code",
   "execution_count": 20,
   "metadata": {
    "collapsed": false
   },
   "outputs": [],
   "source": [
    "y_tr = y_tr.reshape(len(y_tr),)\n",
    "y_te = y_te.reshape(len(y_te),)"
   ]
  },
  {
   "cell_type": "code",
   "execution_count": 21,
   "metadata": {
    "collapsed": true
   },
   "outputs": [],
   "source": [
    "def show_results(model, X_tr, X_te, y_tr, y_te):\n",
    "    model.fit(X_tr, y_tr)\n",
    "    \n",
    "    y_p = model.predict(X_te)\n",
    "    \n",
    "    print(\"Accuracy Score: {}\".format(accuracy_score(y_p, y_te)))\n",
    "    \n",
    "    print(\"\\nPrecision/Recall/F-Score/Support: \\n\")\n",
    "    pprint(precision_recall_fscore_support(y_te, y_p))\n",
    "    \n",
    "    print(\"\\nConfusion Matrix:\\n\")\n",
    "    pprint(confusion_matrix(y_te, y_p))"
   ]
  },
  {
   "cell_type": "markdown",
   "metadata": {
    "collapsed": false
   },
   "source": [
    "# Highlighted Models"
   ]
  },
  {
   "cell_type": "markdown",
   "metadata": {},
   "source": [
    "### Baseline Model"
   ]
  },
  {
   "cell_type": "markdown",
   "metadata": {},
   "source": [
    "Baseline model is a multinomial Naive Bayes classifier using TFIDF vectorization for feature extraction."
   ]
  },
  {
   "cell_type": "code",
   "execution_count": 22,
   "metadata": {
    "collapsed": false
   },
   "outputs": [
    {
     "name": "stdout",
     "output_type": "stream",
     "text": [
      "Accuracy Score: 0.9462450592885375\n",
      "\n",
      "Precision/Recall/F-Score/Support: \n",
      "\n",
      "(array([ 0.96569921,  0.94408665]),\n",
      " array([ 0.65709156,  0.99598518]),\n",
      " array([ 0.78205128,  0.96934175]),\n",
      " array([ 557, 3238]))\n",
      "\n",
      "Confusion Matrix:\n",
      "\n",
      "array([[ 366,  191],\n",
      "       [  13, 3225]])\n"
     ]
    }
   ],
   "source": [
    "mnbModel = MultinomialNB()\n",
    "\n",
    "show_results(mnbModel, X_tr_tfidf, X_te_tfidf, y_tr, y_te)"
   ]
  },
  {
   "cell_type": "code",
   "execution_count": 23,
   "metadata": {
    "collapsed": false
   },
   "outputs": [
    {
     "name": "stdout",
     "output_type": "stream",
     "text": [
      "Confusion matrix, without normalization\n",
      "[[ 366  191]\n",
      " [  13 3225]]\n"
     ]
    },
    {
     "data": {
      "image/png": "[encoded data removed]",
      "text/plain": [
       "<matplotlib.figure.Figure at 0x11b06d5f8>"
      ]
     },
     "metadata": {},
     "output_type": "display_data"
    }
   ],
   "source": [
    "mnbModel.fit(X_tr_tfidf, y_tr)\n",
    "\n",
    "y_p = mnbModel.predict(X_te_tfidf)\n",
    "\n",
    "cfr = confusion_matrix(y_te, y_p)\n",
    "\n",
    "plot_confusion_matrix(cfr, [0, 1])"
   ]
  },
  {
   "cell_type": "markdown",
   "metadata": {},
   "source": [
    "### Best Standalone Model"
   ]
  },
  {
   "cell_type": "markdown",
   "metadata": {},
   "source": [
    "#### Penalized Logistic Regression with doc2vec Vectorization"
   ]
  },
  {
   "cell_type": "code",
   "execution_count": 24,
   "metadata": {
    "collapsed": false
   },
   "outputs": [
    {
     "name": "stdout",
     "output_type": "stream",
     "text": [
      "Accuracy Score: 0.9815546772068511\n",
      "\n",
      "Precision/Recall/F-Score/Support: \n",
      "\n",
      "(array([ 0.94589552,  0.98741945]),\n",
      " array([ 0.92518248,  0.99106868]),\n",
      " array([ 0.93542435,  0.9892407 ]),\n",
      " array([ 548, 3247]))\n",
      "\n",
      "Confusion Matrix:\n",
      "\n",
      "array([[ 507,   41],\n",
      "       [  29, 3218]])\n"
     ]
    }
   ],
   "source": [
    "logisticModel = LogisticRegression()\n",
    "\n",
    "show_results(logisticModel, X_tr_d2v, X_te_d2v, y_tr_d2v, y_te_d2v)"
   ]
  },
  {
   "cell_type": "code",
   "execution_count": 25,
   "metadata": {
    "collapsed": false
   },
   "outputs": [
    {
     "name": "stdout",
     "output_type": "stream",
     "text": [
      "Confusion matrix, without normalization\n",
      "[[ 507   41]\n",
      " [  29 3218]]\n"
     ]
    },
    {
     "data": {
      "image/png": "[encoded data removed]",
      "text/plain": [
       "<matplotlib.figure.Figure at 0x11997b710>"
      ]
     },
     "metadata": {},
     "output_type": "display_data"
    }
   ],
   "source": [
    "logisticModel.fit(X_tr_d2v, y_tr_d2v)\n",
    "\n",
    "y_p = logisticModel.predict(X_te_d2v)\n",
    "\n",
    "cfr = confusion_matrix(y_te_d2v, y_p)\n",
    "\n",
    "plot_confusion_matrix(cfr, [0, 1])"
   ]
  },
  {
   "cell_type": "markdown",
   "metadata": {},
   "source": [
    "### Blended Model"
   ]
  },
  {
   "cell_type": "markdown",
   "metadata": {},
   "source": [
    "Logistic Regression as Level 0 Learner  \n",
    "SVM with rbf kernel as Level 1 or Meta-Learner"
   ]
  },
  {
   "cell_type": "code",
   "execution_count": 38,
   "metadata": {
    "collapsed": false
   },
   "outputs": [
    {
     "data": {
      "text/plain": [
       "(array([ 0.93478261,  0.99013259]),\n",
       " array([ 0.94160584,  0.98891284]),\n",
       " array([ 0.93818182,  0.98952234]),\n",
       " array([ 548, 3247]))"
      ]
     },
     "execution_count": 38,
     "metadata": {},
     "output_type": "execute_result"
    }
   ],
   "source": [
    "level_zero = [LogisticRegression()]\n",
    "level_one = SVC(kernel='rbf', gamma=10)\n",
    "\n",
    "learner_dict = {0: level_zero, 1: level_one}\n",
    "blender = Blender(2, learner_dict, verbose=False)\n",
    "\n",
    "blender.fit(X_tr_d2v, y_tr_d2v, num_folds=500)\n",
    "\n",
    "y_p = blender.predict(X_te_d2v)\n",
    "\n",
    "precision_recall_fscore_support(y_te_d2v, y_p)"
   ]
  },
  {
   "cell_type": "code",
   "execution_count": 39,
   "metadata": {
    "collapsed": false
   },
   "outputs": [
    {
     "name": "stdout",
     "output_type": "stream",
     "text": [
      "Confusion matrix, without normalization\n",
      "[[ 516   32]\n",
      " [  36 3211]]\n"
     ]
    },
    {
     "data": {
      "image/png": "[encoded data removed]",
      "text/plain": [
       "<matplotlib.figure.Figure at 0x11b986080>"
      ]
     },
     "metadata": {},
     "output_type": "display_data"
    }
   ],
   "source": [
    "cfr = confusion_matrix(y_te_d2v, y_p)\n",
    "\n",
    "plot_confusion_matrix(cfr, [0, 1])"
   ]
  },
  {
   "cell_type": "markdown",
   "metadata": {},
   "source": [
    "### Other Good Standalone Models"
   ]
  },
  {
   "cell_type": "markdown",
   "metadata": {},
   "source": [
    "#### Support Vector Machine with doc2vec Vectorization"
   ]
  },
  {
   "cell_type": "code",
   "execution_count": 35,
   "metadata": {
    "collapsed": false
   },
   "outputs": [
    {
     "name": "stdout",
     "output_type": "stream",
     "text": [
      "Accuracy Score: 0.9783926218708827\n",
      "\n",
      "Precision/Recall/F-Score/Support: \n",
      "\n",
      "(array([ 0.93470149,  0.9855784 ]),\n",
      " array([ 0.91423358,  0.98922082]),\n",
      " array([ 0.92435424,  0.98739625]),\n",
      " array([ 548, 3247]))\n",
      "\n",
      "Confusion Matrix:\n",
      "\n",
      "array([[ 501,   47],\n",
      "       [  35, 3212]])\n"
     ]
    }
   ],
   "source": [
    "svmModel = SVC(kernel='linear')\n",
    "\n",
    "show_results(svmModel, X_tr_d2v, X_te_d2v, y_tr_d2v, y_te_d2v)"
   ]
  },
  {
   "cell_type": "markdown",
   "metadata": {},
   "source": [
    "#### Truncated SVD (reduced to 100 components) with Gradient Boosted Tree and TFIDF Vectorization"
   ]
  },
  {
   "cell_type": "code",
   "execution_count": 36,
   "metadata": {
    "collapsed": false
   },
   "outputs": [
    {
     "name": "stdout",
     "output_type": "stream",
     "text": [
      "Accuracy Score: 0.9765480895915678\n",
      "\n",
      "Precision/Recall/F-Score/Support: \n",
      "\n",
      "(array([ 0.93494424,  0.98342033]),\n",
      " array([ 0.90305206,  0.98919086]),\n",
      " array([ 0.91872146,  0.98629715]),\n",
      " array([ 557, 3238]))\n",
      "\n",
      "Confusion Matrix:\n",
      "\n",
      "array([[ 503,   54],\n",
      "       [  35, 3203]])\n"
     ]
    }
   ],
   "source": [
    "reducerGB = TruncatedSVD(n_components = 100)\n",
    "modelGB = GradientBoostingClassifier(learning_rate = .5, n_estimators = 1000, max_depth = 2)\n",
    "pipelineGB = Pipeline([('svd', reducerGB), ('GB', modelGB)])\n",
    "\n",
    "show_results(pipelineGB, X_tr_tfidf, X_te_tfidf, y_tr, y_te)"
   ]
  },
  {
   "cell_type": "markdown",
   "metadata": {},
   "source": [
    "#### Truncated SVD (reduced to 100 components) with SVM and TFIDF Vectorization"
   ]
  },
  {
   "cell_type": "code",
   "execution_count": 40,
   "metadata": {
    "collapsed": false
   },
   "outputs": [
    {
     "name": "stdout",
     "output_type": "stream",
     "text": [
      "Accuracy Score: 0.9770750988142293\n",
      "\n",
      "Precision/Recall/F-Score/Support: \n",
      "\n",
      "(array([ 0.94676806,  0.98195167]),\n",
      " array([ 0.8940754 ,  0.99135269]),\n",
      " array([ 0.91966759,  0.98662978]),\n",
      " array([ 557, 3238]))\n",
      "\n",
      "Confusion Matrix:\n",
      "\n",
      "array([[ 498,   59],\n",
      "       [  28, 3210]])\n"
     ]
    }
   ],
   "source": [
    "reducerSVM = TruncatedSVD(n_components = 300)\n",
    "modelSVM = SVC(kernel='linear', probability = True)\n",
    "pipelineSVM = Pipeline([('svd', reducerSVM), ('SVM', modelSVM)])\n",
    "\n",
    "show_results(pipelineSVM, X_tr_tfidf, X_te_tfidf, y_tr, y_te)"
   ]
  },
  {
   "cell_type": "markdown",
   "metadata": {},
   "source": [
    "## All Other Models"
   ]
  },
  {
   "cell_type": "markdown",
   "metadata": {},
   "source": [
    "### Naive Bayes"
   ]
  },
  {
   "cell_type": "markdown",
   "metadata": {},
   "source": [
    "#### Count Vectorization"
   ]
  },
  {
   "cell_type": "code",
   "execution_count": 147,
   "metadata": {
    "collapsed": false
   },
   "outputs": [
    {
     "name": "stdout",
     "output_type": "stream",
     "text": [
      "Accuracy Score: 0.7191040843214757\n",
      "\n",
      "Precision/Recall/F-Score/Support: \n",
      "\n",
      "(array([ 0.14553314,  0.84746856]),\n",
      " array([ 0.17595819,  0.81589568]),\n",
      " array([ 0.15930599,  0.83138247]),\n",
      " array([ 574, 3221]))\n",
      "\n",
      "Confusion Matrix:\n",
      "\n",
      "array([[ 101,  473],\n",
      "       [ 593, 2628]])\n"
     ]
    }
   ],
   "source": [
    "mnbModel = MultinomialNB()\n",
    "\n",
    "show_results(mnbModel, X_tr_count, X_te_count, y_tr, y_te)"
   ]
  },
  {
   "cell_type": "markdown",
   "metadata": {},
   "source": [
    "#### TFIDF Vectorization"
   ]
  },
  {
   "cell_type": "code",
   "execution_count": 148,
   "metadata": {
    "collapsed": false
   },
   "outputs": [
    {
     "name": "stdout",
     "output_type": "stream",
     "text": [
      "Accuracy Score: 0.9486166007905138\n",
      "\n",
      "Precision/Recall/F-Score/Support: \n",
      "\n",
      "(array([ 0.97022333,  0.94604953]),\n",
      " array([ 0.68118467,  0.99627445]),\n",
      " array([ 0.80040942,  0.97051263]),\n",
      " array([ 574, 3221]))\n",
      "\n",
      "Confusion Matrix:\n",
      "\n",
      "array([[ 391,  183],\n",
      "       [  12, 3209]])\n"
     ]
    }
   ],
   "source": [
    "show_results(mnbModel, X_tr_tfidf, X_te_tfidf, y_tr, y_te)"
   ]
  },
  {
   "cell_type": "code",
   "execution_count": 18,
   "metadata": {
    "collapsed": true
   },
   "outputs": [],
   "source": [
    "y_p_mnb_baseline = y_p"
   ]
  },
  {
   "cell_type": "markdown",
   "metadata": {},
   "source": [
    "#### Doc2Vec Vectorization"
   ]
  },
  {
   "cell_type": "code",
   "execution_count": 150,
   "metadata": {
    "collapsed": false
   },
   "outputs": [
    {
     "name": "stdout",
     "output_type": "stream",
     "text": [
      "Accuracy Score: 0.8476943346508564\n",
      "\n",
      "Precision/Recall/F-Score/Support: \n",
      "\n",
      "(array([ 0.50312221,  0.9921466 ]),\n",
      " array([ 0.96410256,  0.82647975]),\n",
      " array([ 0.66119578,  0.90176751]),\n",
      " array([ 585, 3210]))\n",
      "\n",
      "Confusion Matrix:\n",
      "\n",
      "array([[ 564,   21],\n",
      "       [ 557, 2653]])\n"
     ]
    }
   ],
   "source": [
    "gnbModel = GaussianNB()\n",
    "\n",
    "show_results(gnbModel, X_tr_d2v, X_te_d2v, y_tr_d2v, y_te_d2v)"
   ]
  },
  {
   "cell_type": "markdown",
   "metadata": {},
   "source": [
    "### Logistic Regression"
   ]
  },
  {
   "cell_type": "markdown",
   "metadata": {},
   "source": [
    "#### Count Vectorization"
   ]
  },
  {
   "cell_type": "code",
   "execution_count": 151,
   "metadata": {
    "collapsed": false
   },
   "outputs": [
    {
     "name": "stdout",
     "output_type": "stream",
     "text": [
      "Accuracy Score: 0.8310935441370224\n",
      "\n",
      "Precision/Recall/F-Score/Support: \n",
      "\n",
      "(array([ 0.17475728,  0.84940412]),\n",
      " array([ 0.03135889,  0.97361068]),\n",
      " array([ 0.05317578,  0.90727615]),\n",
      " array([ 574, 3221]))\n",
      "\n",
      "Confusion Matrix:\n",
      "\n",
      "array([[  18,  556],\n",
      "       [  85, 3136]])\n"
     ]
    }
   ],
   "source": [
    "logisticModel = LogisticRegression()\n",
    "\n",
    "show_results(logisticModel, X_tr_count, X_te_count, y_tr, y_te)"
   ]
  },
  {
   "cell_type": "markdown",
   "metadata": {},
   "source": [
    "#### TFIDF Vectorization"
   ]
  },
  {
   "cell_type": "code",
   "execution_count": 152,
   "metadata": {
    "collapsed": false
   },
   "outputs": [
    {
     "name": "stdout",
     "output_type": "stream",
     "text": [
      "Accuracy Score: 0.9723320158102767\n",
      "\n",
      "Precision/Recall/F-Score/Support: \n",
      "\n",
      "(array([ 0.96806387,  0.97298118]),\n",
      " array([ 0.84494774,  0.9950326 ]),\n",
      " array([ 0.90232558,  0.98388335]),\n",
      " array([ 574, 3221]))\n",
      "\n",
      "Confusion Matrix:\n",
      "\n",
      "array([[ 485,   89],\n",
      "       [  16, 3205]])\n"
     ]
    }
   ],
   "source": [
    "show_results(logisticModel, X_tr_tfidf, X_te_tfidf, y_tr, y_te)"
   ]
  },
  {
   "cell_type": "markdown",
   "metadata": {},
   "source": [
    "#### word2vec Vectorization"
   ]
  },
  {
   "cell_type": "code",
   "execution_count": 153,
   "metadata": {
    "collapsed": false
   },
   "outputs": [
    {
     "name": "stdout",
     "output_type": "stream",
     "text": [
      "Accuracy Score: 0.9839262187088273\n",
      "\n",
      "Precision/Recall/F-Score/Support: \n",
      "\n",
      "(array([ 0.95017182,  0.99004046]),\n",
      " array([ 0.94529915,  0.99096573]),\n",
      " array([ 0.94772922,  0.99050288]),\n",
      " array([ 585, 3210]))\n",
      "\n",
      "Confusion Matrix:\n",
      "\n",
      "array([[ 553,   32],\n",
      "       [  29, 3181]])\n"
     ]
    }
   ],
   "source": [
    "show_results(logisticModel, X_tr_d2v, X_te_d2v, y_tr_d2v, y_te_d2v)"
   ]
  },
  {
   "cell_type": "markdown",
   "metadata": {},
   "source": [
    "### Decision Tree"
   ]
  },
  {
   "cell_type": "markdown",
   "metadata": {},
   "source": [
    "#### Count Vectorization"
   ]
  },
  {
   "cell_type": "code",
   "execution_count": 154,
   "metadata": {
    "collapsed": false
   },
   "outputs": [
    {
     "name": "stdout",
     "output_type": "stream",
     "text": [
      "Accuracy Score: 0.7433465085638998\n",
      "\n",
      "Precision/Recall/F-Score/Support: \n",
      "\n",
      "(array([ 0.15397924,  0.84923842]),\n",
      " array([ 0.15505226,  0.84818379]),\n",
      " array([ 0.15451389,  0.84871078]),\n",
      " array([ 574, 3221]))\n",
      "\n",
      "Confusion Matrix:\n",
      "\n",
      "array([[  89,  485],\n",
      "       [ 489, 2732]])\n"
     ]
    }
   ],
   "source": [
    "dtModel = DecisionTreeClassifier()\n",
    "\n",
    "show_results(dtModel, X_tr_count, X_te_count, y_tr, y_te)"
   ]
  },
  {
   "cell_type": "markdown",
   "metadata": {},
   "source": [
    "#### TFIDF Vectorization"
   ]
  },
  {
   "cell_type": "code",
   "execution_count": 155,
   "metadata": {
    "collapsed": false
   },
   "outputs": [
    {
     "name": "stdout",
     "output_type": "stream",
     "text": [
      "Accuracy Score: 0.9420289855072463\n",
      "\n",
      "Precision/Recall/F-Score/Support: \n",
      "\n",
      "(array([ 0.8172043 ,  0.96354649]),\n",
      " array([ 0.79442509,  0.96833282]),\n",
      " array([ 0.80565371,  0.96593373]),\n",
      " array([ 574, 3221]))\n",
      "\n",
      "Confusion Matrix:\n",
      "\n",
      "array([[ 456,  118],\n",
      "       [ 102, 3119]])\n"
     ]
    }
   ],
   "source": [
    "show_results(dtModel, X_tr_tfidf, X_te_tfidf, y_tr, y_te)"
   ]
  },
  {
   "cell_type": "markdown",
   "metadata": {},
   "source": [
    "#### word2vec Vectorization"
   ]
  },
  {
   "cell_type": "code",
   "execution_count": 156,
   "metadata": {
    "collapsed": false
   },
   "outputs": [
    {
     "name": "stdout",
     "output_type": "stream",
     "text": [
      "Accuracy Score: 0.8490118577075099\n",
      "\n",
      "Precision/Recall/F-Score/Support: \n",
      "\n",
      "(array([ 0.51056338,  0.90858382]),\n",
      " array([ 0.4957265 ,  0.91339564]),\n",
      " array([ 0.50303556,  0.91098338]),\n",
      " array([ 585, 3210]))\n",
      "\n",
      "Confusion Matrix:\n",
      "\n",
      "array([[ 290,  295],\n",
      "       [ 278, 2932]])\n"
     ]
    }
   ],
   "source": [
    "show_results(dtModel, X_tr_d2v, X_te_d2v, y_tr_d2v, y_te_d2v)"
   ]
  },
  {
   "cell_type": "markdown",
   "metadata": {},
   "source": [
    "### Random Forest"
   ]
  },
  {
   "cell_type": "markdown",
   "metadata": {},
   "source": [
    "#### Count Vectorization"
   ]
  },
  {
   "cell_type": "code",
   "execution_count": 160,
   "metadata": {
    "collapsed": false
   },
   "outputs": [
    {
     "name": "stdout",
     "output_type": "stream",
     "text": [
      "Accuracy Score: 0.833201581027668\n",
      "\n",
      "Precision/Recall/F-Score/Support: \n",
      "\n",
      "(array([ 0.10666667,  0.84784946]),\n",
      " array([ 0.01393728,  0.97919901]),\n",
      " array([ 0.02465331,  0.90880277]),\n",
      " array([ 574, 3221]))\n",
      "\n",
      "Confusion Matrix:\n",
      "\n",
      "array([[   8,  566],\n",
      "       [  67, 3154]])\n"
     ]
    }
   ],
   "source": [
    "forestModel = RandomForestClassifier(n_estimators = 100)\n",
    "\n",
    "show_results(forestModel, X_tr_count, X_te_count, y_tr, y_te)"
   ]
  },
  {
   "cell_type": "code",
   "execution_count": 162,
   "metadata": {
    "collapsed": false
   },
   "outputs": [
    {
     "name": "stdout",
     "output_type": "stream",
     "text": [
      "Accuracy Score: 0.9657444005270093\n",
      "\n",
      "Precision/Recall/F-Score/Support: \n",
      "\n",
      "(array([ 0.98684211,  0.96286313]),\n",
      " array([ 0.78397213,  0.99813722]),\n",
      " array([ 0.87378641,  0.98018293]),\n",
      " array([ 574, 3221]))\n",
      "\n",
      "Confusion Matrix:\n",
      "\n",
      "array([[ 450,  124],\n",
      "       [   6, 3215]])\n"
     ]
    }
   ],
   "source": [
    "show_results(forestModel, X_tr_tfidf, X_te_tfidf, y_tr, y_te)"
   ]
  },
  {
   "cell_type": "code",
   "execution_count": 161,
   "metadata": {
    "collapsed": false
   },
   "outputs": [
    {
     "name": "stdout",
     "output_type": "stream",
     "text": [
      "Accuracy Score: 0.8848484848484849\n",
      "\n",
      "Precision/Recall/F-Score/Support: \n",
      "\n",
      "(array([ 0.98684211,  0.88059292]),\n",
      " array([ 0.25641026,  0.99937695]),\n",
      " array([ 0.40705563,  0.93623231]),\n",
      " array([ 585, 3210]))\n",
      "\n",
      "Confusion Matrix:\n",
      "\n",
      "array([[ 150,  435],\n",
      "       [   2, 3208]])\n"
     ]
    }
   ],
   "source": [
    "show_results(forestModel, X_tr_d2v, X_te_d2v, y_tr_d2v, y_te_d2v)"
   ]
  },
  {
   "cell_type": "markdown",
   "metadata": {},
   "source": [
    "### Adaboost"
   ]
  },
  {
   "cell_type": "markdown",
   "metadata": {},
   "source": [
    "#### Count Vectorization"
   ]
  },
  {
   "cell_type": "code",
   "execution_count": 164,
   "metadata": {
    "collapsed": false
   },
   "outputs": [
    {
     "name": "stdout",
     "output_type": "stream",
     "text": [
      "Accuracy Score: 0.8205533596837945\n",
      "\n",
      "Precision/Recall/F-Score/Support: \n",
      "\n",
      "(array([ 0.15923567,  0.84909291]),\n",
      " array([ 0.04355401,  0.95901894]),\n",
      " array([ 0.06839945,  0.90071439]),\n",
      " array([ 574, 3221]))\n",
      "\n",
      "Confusion Matrix:\n",
      "\n",
      "array([[  25,  549],\n",
      "       [ 132, 3089]])\n"
     ]
    }
   ],
   "source": [
    "adaModel = AdaBoostClassifier(base_estimator = DecisionTreeClassifier(), n_estimators = 100, learning_rate = 1.0)\n",
    "\n",
    "show_results(adaModel, X_tr_count, X_te_count, y_tr, y_te)"
   ]
  },
  {
   "cell_type": "markdown",
   "metadata": {},
   "source": [
    "#### TFIDF Vectorization"
   ]
  },
  {
   "cell_type": "code",
   "execution_count": 165,
   "metadata": {
    "collapsed": false
   },
   "outputs": [
    {
     "name": "stdout",
     "output_type": "stream",
     "text": [
      "Accuracy Score: 0.9407114624505929\n",
      "\n",
      "Precision/Recall/F-Score/Support: \n",
      "\n",
      "(array([ 0.80994671,  0.9634901 ]),\n",
      " array([ 0.79442509,  0.9667805 ]),\n",
      " array([ 0.80211082,  0.9651325 ]),\n",
      " array([ 574, 3221]))\n",
      "\n",
      "Confusion Matrix:\n",
      "\n",
      "array([[ 456,  118],\n",
      "       [ 107, 3114]])\n"
     ]
    }
   ],
   "source": [
    "show_results(adaModel, X_tr_tfidf, X_te_tfidf, y_tr, y_te)"
   ]
  },
  {
   "cell_type": "markdown",
   "metadata": {},
   "source": [
    "#### word2vec Vectorization"
   ]
  },
  {
   "cell_type": "code",
   "execution_count": 166,
   "metadata": {
    "collapsed": false
   },
   "outputs": [
    {
     "name": "stdout",
     "output_type": "stream",
     "text": [
      "Accuracy Score: 0.8397891963109354\n",
      "\n",
      "Precision/Recall/F-Score/Support: \n",
      "\n",
      "(array([ 0.48006932,  0.90428838]),\n",
      " array([ 0.47350427,  0.90654206]),\n",
      " array([ 0.4767642 ,  0.90541381]),\n",
      " array([ 585, 3210]))\n",
      "\n",
      "Confusion Matrix:\n",
      "\n",
      "array([[ 277,  308],\n",
      "       [ 300, 2910]])\n"
     ]
    }
   ],
   "source": [
    "show_results(adaModel, X_tr_d2v, X_te_d2v, y_tr_d2v, y_te_d2v)"
   ]
  },
  {
   "cell_type": "markdown",
   "metadata": {},
   "source": [
    "### Gradient Boost"
   ]
  },
  {
   "cell_type": "markdown",
   "metadata": {},
   "source": [
    "#### Count Vectorization"
   ]
  },
  {
   "cell_type": "code",
   "execution_count": 181,
   "metadata": {
    "collapsed": false
   },
   "outputs": [
    {
     "name": "stdout",
     "output_type": "stream",
     "text": [
      "Accuracy Score: 0.8194993412384717\n",
      "\n",
      "Precision/Recall/F-Score/Support: \n",
      "\n",
      "(array([ 0.1595092 ,  0.84911894]),\n",
      " array([ 0.04529617,  0.95746663]),\n",
      " array([ 0.07055631,  0.90004378]),\n",
      " array([ 574, 3221]))\n",
      "\n",
      "Confusion Matrix:\n",
      "\n",
      "array([[  26,  548],\n",
      "       [ 137, 3084]])\n"
     ]
    }
   ],
   "source": [
    "gbModel = GradientBoostingClassifier(learning_rate = .5, n_estimators = 1000, max_depth = 2)\n",
    "\n",
    "show_results(gbModel, X_tr_count.toarray(), X_te_count.toarray(), y_tr, y_te)"
   ]
  },
  {
   "cell_type": "markdown",
   "metadata": {},
   "source": [
    "#### TFIDF Vectorization"
   ]
  },
  {
   "cell_type": "code",
   "execution_count": 183,
   "metadata": {
    "collapsed": false
   },
   "outputs": [
    {
     "name": "stdout",
     "output_type": "stream",
     "text": [
      "Accuracy Score: 0.9818181818181818\n",
      "\n",
      "Precision/Recall/F-Score/Support: \n",
      "\n",
      "(array([ 0.97020484,  0.98373235]),\n",
      " array([ 0.90766551,  0.9950326 ]),\n",
      " array([ 0.93789379,  0.98935021]),\n",
      " array([ 574, 3221]))\n",
      "\n",
      "Confusion Matrix:\n",
      "\n",
      "array([[ 521,   53],\n",
      "       [  16, 3205]])\n"
     ]
    }
   ],
   "source": [
    "gbModel = GradientBoostingClassifier(learning_rate = .5, n_estimators = 1000, max_depth = 2)\n",
    "\n",
    "show_results(gbModel, X_tr_tfidf.toarray(), X_te_tfidf.toarray(), y_tr, y_te)"
   ]
  },
  {
   "cell_type": "code",
   "execution_count": null,
   "metadata": {
    "collapsed": true
   },
   "outputs": [],
   "source": [
    "staged_MSE_train = [mean_squared_error(y_p, y_tr_d2v) for y_p in gbModel.staged_predict(X_tr_d2v)]\n",
    "staged_MSE_test = [mean_squared_error(y_p, y_te_d2v) for y_p in gbModel.staged_predict(X_te_d2v)]\n",
    "\n",
    "plt.plot(staged_MSE_train)\n",
    "plt.plot(staged_MSE_test)"
   ]
  },
  {
   "cell_type": "markdown",
   "metadata": {},
   "source": [
    "#### word2vec Vectorization"
   ]
  },
  {
   "cell_type": "code",
   "execution_count": 187,
   "metadata": {
    "collapsed": false
   },
   "outputs": [
    {
     "name": "stdout",
     "output_type": "stream",
     "text": [
      "Accuracy Score: 0.9744400527009223\n",
      "\n",
      "Precision/Recall/F-Score/Support: \n",
      "\n",
      "(array([ 0.93571429,  0.98114374]),\n",
      " array([ 0.8957265 ,  0.98878505]),\n",
      " array([ 0.91528384,  0.98494957]),\n",
      " array([ 585, 3210]))\n",
      "\n",
      "Confusion Matrix:\n",
      "\n",
      "array([[ 524,   61],\n",
      "       [  36, 3174]])\n"
     ]
    }
   ],
   "source": [
    "gbModel = GradientBoostingClassifier(learning_rate = .5, n_estimators = 2000, max_depth = 2)\n",
    "\n",
    "show_results(gbModel, X_tr_d2v, X_te_d2v, y_tr_d2v, y_te_d2v)"
   ]
  },
  {
   "cell_type": "code",
   "execution_count": 188,
   "metadata": {
    "collapsed": false
   },
   "outputs": [
    {
     "data": {
      "text/plain": [
       "[<matplotlib.lines.Line2D at 0x119408470>]"
      ]
     },
     "execution_count": 188,
     "metadata": {},
     "output_type": "execute_result"
    },
    {
     "data": {
      "image/png": "[encoded data removed]",
      "text/plain": [
       "<matplotlib.figure.Figure at 0x11991c128>"
      ]
     },
     "metadata": {},
     "output_type": "display_data"
    }
   ],
   "source": [
    "staged_MSE_train = [mean_squared_error(y_p, y_tr_d2v) for y_p in gbModel.staged_predict(X_tr_d2v)]\n",
    "staged_MSE_test = [mean_squared_error(y_p, y_te_d2v) for y_p in gbModel.staged_predict(X_te_d2v)]\n",
    "\n",
    "plt.plot(staged_MSE_train)\n",
    "plt.plot(staged_MSE_test)"
   ]
  },
  {
   "cell_type": "markdown",
   "metadata": {},
   "source": [
    "## SVM"
   ]
  },
  {
   "cell_type": "code",
   "execution_count": 189,
   "metadata": {
    "collapsed": false
   },
   "outputs": [
    {
     "name": "stdout",
     "output_type": "stream",
     "text": [
      "Accuracy Score: 0.9802371541501976\n",
      "\n",
      "Precision/Recall/F-Score/Support: \n",
      "\n",
      "(array([ 0.93220339,  0.98907956]),\n",
      " array([ 0.94017094,  0.98753894]),\n",
      " array([ 0.93617021,  0.98830865]),\n",
      " array([ 585, 3210]))\n",
      "\n",
      "Confusion Matrix:\n",
      "\n",
      "array([[ 550,   35],\n",
      "       [  40, 3170]])\n"
     ]
    }
   ],
   "source": [
    "svmModel = SVC(kernel='linear')\n",
    "\n",
    "show_results(svmModel, X_tr_d2v, X_te_d2v, y_tr_d2v, y_te_d2v)"
   ]
  }
 ],
 "metadata": {
  "anaconda-cloud": {},
  "kernelspec": {
   "display_name": "Python [Root]",
   "language": "python",
   "name": "Python [Root]"
  },
  "language_info": {
   "codemirror_mode": {
    "name": "ipython",
    "version": 3
   },
   "file_extension": ".py",
   "mimetype": "text/x-python",
   "name": "python",
   "nbconvert_exporter": "python",
   "pygments_lexer": "ipython3",
   "version": "3.5.2"
  }
 },
 "nbformat": 4,
 "nbformat_minor": 0
}
